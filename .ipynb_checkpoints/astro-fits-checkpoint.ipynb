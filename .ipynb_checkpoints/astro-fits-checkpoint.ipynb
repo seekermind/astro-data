{
 "cells": [
  {
   "cell_type": "code",
   "execution_count": 61,
   "metadata": {},
   "outputs": [],
   "source": [
    "import time\n",
    "import numpy as np\n",
    "from astropy.io import fits\n",
    "import matplotlib.pyplot as plt"
   ]
  },
  {
   "cell_type": "code",
   "execution_count": 75,
   "metadata": {},
   "outputs": [],
   "source": [
    "def running_stats(filenames):\n",
    "  '''Calculates the running mean and stdev for a list of FITS files using Welford's method.'''\n",
    "  n = 0\n",
    "  for filename in filenames:\n",
    "    hdulist = fits.open(filename)\n",
    "    data = hdulist[0].data\n",
    "    if n == 0:\n",
    "      mean = np.zeros_like(data)\n",
    "      s = np.zeros_like(data)\n",
    "\n",
    "    n += 1\n",
    "    delta = data - mean\n",
    "    mean = mean + (delta/n)\n",
    "    s = s + delta*(data - mean)\n",
    "    hdulist.close()\n",
    "\n",
    "  s /= n - 1\n",
    "  np.sqrt(s, s)\n",
    "\n",
    "  if n < 2:\n",
    "    return mean, None\n",
    "  else:\n",
    "    return mean, s"
   ]
  },
  {
   "cell_type": "code",
   "execution_count": 76,
   "metadata": {},
   "outputs": [],
   "source": [
    "def median_bins_fits(filenames, B):\n",
    "  # Calculate the mean and standard dev\n",
    "  mean, std = running_stats(filenames)\n",
    "    \n",
    "  dim = mean.shape # Dimension of the FITS file arrays\n",
    "    \n",
    "  # Initialise bins\n",
    "  left_bin = np.zeros(dim)\n",
    "  bins = np.zeros((dim[0], dim[1], B))\n",
    "  bin_width = 2 * std / B \n",
    "\n",
    "  # Loop over all FITS files\n",
    "  for filename in filenames:\n",
    "      hdulist = fits.open(filename)\n",
    "      data = hdulist[0].data\n",
    "\n",
    "      # Loop over every point in the 2D array\n",
    "      for i in range(dim[0]):\n",
    "        for j in range(dim[1]):\n",
    "          value = data[i, j]\n",
    "          mean_ = mean[i, j]\n",
    "          std_ = std[i, j]\n",
    "\n",
    "          if value < mean_ - std_:\n",
    "            left_bin[i, j] += 1\n",
    "                \n",
    "          elif value >= mean_ - std_ and value < mean_ + std_:\n",
    "            bin = int((value - (mean_ - std_))/bin_width[i, j])\n",
    "            bins[i, j, bin] += 1\n",
    "\n",
    "  return mean, std, left_bin, bins\n",
    "\n",
    "\n",
    "def median_approx_fits(filenames, B):\n",
    "  mean, std, left_bin, bins = median_bins_fits(filenames, B)\n",
    "    \n",
    "  dim = mean.shape # Dimension of the FITS file arrays\n",
    "    \n",
    "  # Position of the middle element over all files\n",
    "  N = len(filenames)\n",
    "  mid = (N + 1)/2\n",
    "\t\n",
    "  bin_width = 2*std / B\n",
    "  # Calculate the approximated median for each array element\n",
    "  median = np.zeros(dim)   \n",
    "  for i in range(dim[0]):\n",
    "    for j in range(dim[1]):    \n",
    "      count = left_bin[i, j]\n",
    "      for b, bincount in enumerate(bins[i, j]):\n",
    "        count += bincount\n",
    "        if count >= mid:\n",
    "          # Stop when the cumulative count exceeds the midpoint\n",
    "          break\n",
    "      median[i, j] = mean[i, j] - std[i, j] + bin_width[i, j]*(b + 0.5)\n",
    "      \n",
    "  return median\n"
   ]
  },
  {
   "cell_type": "code",
   "execution_count": 77,
   "metadata": {},
   "outputs": [],
   "source": [
    "def bin_approx(arr,mean, std, B):\n",
    "    minv = mean - std\n",
    "    maxv = mean + std\n",
    "    width = (2 * std) / B\n",
    "    left_bin = 0\n",
    "    bins = np.zeros(B)\n",
    "    for i in arr:\n",
    "        if i<minv:\n",
    "            left_bin += 1\n",
    "        elif i<maxv:\n",
    "            j = int((i-minv) / width)\n",
    "            bins[j] += 1\n",
    "    mid = (len(arr)+1)/2\n",
    "    count = left_bin\n",
    "    for i in range(B):\n",
    "        count += bins[i]\n",
    "        if count >= mid:\n",
    "            break\n",
    "    median = minv + (i*width) - (width/2)\n",
    "    return median"
   ]
  },
  {
   "cell_type": "code",
   "execution_count": 78,
   "metadata": {},
   "outputs": [
    {
     "name": "stdout",
     "output_type": "stream",
     "text": [
      "9.766405672000474\n"
     ]
    }
   ],
   "source": [
    "start = time.perf_counter()\n",
    "imglist=['fits/rosat_pspc_rdf2_3_im2.fits', 'fits/rosat_pspc_rdf2_3_bk1.fits', 'fits/rosat_pspc_rdf2_3_bk1.fits']\n",
    "median = median_approx_fits(imglist, 10)\n",
    "t = time.perf_counter() -start\n",
    "print(t)"
   ]
  },
  {
   "cell_type": "code",
   "execution_count": 80,
   "metadata": {},
   "outputs": [
    {
     "data": {
      "text/plain": [
       "0.05349914252198431"
      ]
     },
     "execution_count": 80,
     "metadata": {},
     "output_type": "execute_result"
    }
   ],
   "source": [
    "median[100][100]"
   ]
  },
  {
   "cell_type": "code",
   "execution_count": 84,
   "metadata": {},
   "outputs": [
    {
     "data": {
      "image/png": "[encoded data removed]",
      "text/plain": [
       "<Figure size 432x288 with 2 Axes>"
      ]
     },
     "metadata": {
      "needs_background": "light"
     },
     "output_type": "display_data"
    }
   ],
   "source": [
    "plt.imshow(median, cmap=plt.cm.viridis)\n",
    "plt.colorbar()\n",
    "plt.show()"
   ]
  },
  {
   "cell_type": "code",
   "execution_count": 51,
   "metadata": {},
   "outputs": [
    {
     "data": {
      "text/plain": [
       "array([[0., 0., 0.],\n",
       "       [0., 0., 0.]])"
      ]
     },
     "execution_count": 51,
     "metadata": {},
     "output_type": "execute_result"
    }
   ],
   "source": [
    "np.zeros((2,3))"
   ]
  },
  {
   "cell_type": "code",
   "execution_count": 86,
   "metadata": {},
   "outputs": [
    {
     "name": "stdout",
     "output_type": "stream",
     "text": [
      "9.005066023000836\n"
     ]
    }
   ],
   "source": [
    "imglist=['fits/rosat_pspc_rdf2_3_im2.fits', 'fits/rosat_pspc_rdf2_3_bk1.fits', 'fits/rosat_pspc_rdf2_3_bk1.fits']\n",
    "data = []\n",
    "for img in imglist:\n",
    "    hdulist = fits.open(img)\n",
    "    data += [hdulist[0].data]\n",
    "data = np.array(data)\n",
    "data = np.dstack(data)\n",
    "\n",
    "start = time.perf_counter()\n",
    "\n",
    "mean, std = running_stats(imglist)\n",
    "\n",
    "dim = data.shape\n",
    "median2 = np.zeros((dim[0],dim[1]))\n",
    "for i in range(dim[0]):\n",
    "    for j in range(dim[1]):\n",
    "        median2[i][j] = bin_approx(data[i][j], mean[i][j], std[i][j], 4)\n",
    "t = time.perf_counter()-start\n",
    "\n",
    "print(t)"
   ]
  },
  {
   "cell_type": "code",
   "execution_count": 87,
   "metadata": {},
   "outputs": [
    {
     "data": {
      "image/png": "[encoded data removed]",
      "text/plain": [
       "<Figure size 432x288 with 2 Axes>"
      ]
     },
     "metadata": {
      "needs_background": "light"
     },
     "output_type": "display_data"
    }
   ],
   "source": [
    "plt.imshow(median2, cmap=plt.cm.viridis)\n",
    "plt.colorbar()\n",
    "plt.show()"
   ]
  },
  {
   "cell_type": "code",
   "execution_count": 88,
   "metadata": {},
   "outputs": [
    {
     "data": {
      "text/plain": [
       "0.045416238503837046"
      ]
     },
     "execution_count": 88,
     "metadata": {},
     "output_type": "execute_result"
    }
   ],
   "source": [
    "median2[100][100]"
   ]
  },
  {
   "cell_type": "code",
   "execution_count": null,
   "metadata": {},
   "outputs": [],
   "source": []
  }
 ],
 "metadata": {
  "kernelspec": {
   "display_name": "Python 3",
   "language": "python",
   "name": "python3"
  },
  "language_info": {
   "codemirror_mode": {
    "name": "ipython",
    "version": 3
   },
   "file_extension": ".py",
   "mimetype": "text/x-python",
   "name": "python",
   "nbconvert_exporter": "python",
   "pygments_lexer": "ipython3",
   "version": "3.8.5"
  }
 },
 "nbformat": 4,
 "nbformat_minor": 4
}
