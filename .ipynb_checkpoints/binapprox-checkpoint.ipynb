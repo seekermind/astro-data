{
 "cells": [
  {
   "cell_type": "code",
   "execution_count": 1,
   "metadata": {},
   "outputs": [],
   "source": [
    "import numpy as np\n",
    "import matplotlib.pyplot as plt\n",
    "from astropy.io import fits"
   ]
  },
  {
   "cell_type": "code",
   "execution_count": 2,
   "metadata": {},
   "outputs": [],
   "source": [
    "def bin_approx(arr, B):\n",
    "    mean = np.mean(arr)\n",
    "    std = np.std(arr)\n",
    "    minv = mean - std\n",
    "    maxv = mean + std\n",
    "    width = (2 * std) / B\n",
    "    left_bin = 0\n",
    "    bins = np.zeros(B)\n",
    "    for i in arr:\n",
    "        if i<minv:\n",
    "            left_bin += 1\n",
    "        elif i<maxv:\n",
    "            j = int((i-minv) / width)\n",
    "            bins[j] += 1\n",
    "    mid = (len(arr)+1)/2\n",
    "    count = left_bin\n",
    "    for i in range(B):\n",
    "        count += bins[i]\n",
    "        if count >= mid:\n",
    "            break\n",
    "    print(i)\n",
    "    median = minv + (i*width) - (width/2)\n",
    "    return median"
   ]
  }
 ],
 "metadata": {
  "kernelspec": {
   "display_name": "Python 3",
   "language": "python",
   "name": "python3"
  },
  "language_info": {
   "codemirror_mode": {
    "name": "ipython",
    "version": 3
   },
   "file_extension": ".py",
   "mimetype": "text/x-python",
   "name": "python",
   "nbconvert_exporter": "python",
   "pygments_lexer": "ipython3",
   "version": "3.8.5"
  }
 },
 "nbformat": 4,
 "nbformat_minor": 4
}
