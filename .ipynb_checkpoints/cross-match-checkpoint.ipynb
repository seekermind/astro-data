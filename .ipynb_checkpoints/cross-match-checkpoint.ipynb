{
 "cells": [
  {
   "cell_type": "code",
   "execution_count": 16,
   "metadata": {},
   "outputs": [],
   "source": [
    "import numpy as np"
   ]
  },
  {
   "cell_type": "code",
   "execution_count": 17,
   "metadata": {},
   "outputs": [],
   "source": [
    "def angular_dist(ra1, dec1, ra2, dec2):\n",
    "  r1 = np.radians(ra1)\n",
    "  d1 = np.radians(dec1)\n",
    "  r2 = np.radians(ra2)\n",
    "  d2 = np.radians(dec2)\n",
    "  #r1, d1, r2, d2 = np.radians(ra1), np.radians(dec1), np.radians(ra2), np.radians(dec2)\n",
    "  b = np.cos(d1)*np.cos(d2)*np.sin(np.abs(r1 - r2)/2)**2\n",
    "  a = np.sin(np.abs(d1 - d2)/2)**2\n",
    "  return np.degrees(2*np.arcsin(np.sqrt(a + b)))"
   ]
  },
  {
   "cell_type": "code",
   "execution_count": 18,
   "metadata": {},
   "outputs": [],
   "source": [
    "def hms2dec(hr, m, s):\n",
    "  dec = hr + m/60 + s/3600\n",
    "  return dec*15\n",
    "\n",
    "def dms2dec(d, m, s):\n",
    "  sign = d/abs(d)\n",
    "  dec = abs(d) + m/60 + s/3600\n",
    "  return sign*dec"
   ]
  },
  {
   "cell_type": "code",
   "execution_count": 19,
   "metadata": {},
   "outputs": [],
   "source": [
    "def import_bss():\n",
    "    bss = np.loadtxt('table2.dat', usecols=range(1,7))\n",
    "    res = [(i+1, hms2dec(bss[i][0], bss[i][1], bss[i][2]), dms2dec(bss[0][3], bss[0][4], bss[0][5])) for i in range(len(bss))]\n",
    "    return res"
   ]
  },
  {
   "cell_type": "code",
   "execution_count": 20,
   "metadata": {},
   "outputs": [],
   "source": [
    "def find_closest(cat, r, d):\n",
    "    min_dist = np.inf\n",
    "    min_id = None\n",
    "    for i in cat:\n",
    "        ang_dist = angular_dist(i[1], i[2], r, d)\n",
    "        if ang_dist < min_dist:\n",
    "            min_dist = ang_dist\n",
    "            min_id = i[0]\n",
    "    return (min_id, min_dist)"
   ]
  },
  {
   "cell_type": "code",
   "execution_count": 21,
   "metadata": {},
   "outputs": [
    {
     "data": {
      "text/plain": [
       "(151, 15.131494702618829)"
      ]
     },
     "execution_count": 21,
     "metadata": {},
     "output_type": "execute_result"
    }
   ],
   "source": [
    "bss = import_bss()\n",
    "find_closest(bss, 175.3, -32.5)"
   ]
  },
  {
   "cell_type": "code",
   "execution_count": 11,
   "metadata": {},
   "outputs": [
    {
     "name": "stdout",
     "output_type": "stream",
     "text": [
      "(156, 3.7670580226469053)\n",
      "(26, 57.729135775621295)\n"
     ]
    }
   ],
   "source": [
    "# Write your find_closest function here\n",
    "import numpy as np\n",
    "\n",
    "def hms2dec(hr, m, s):\n",
    "  dec = hr + m/60 + s/3600\n",
    "  return dec*15\n",
    "\n",
    "def dms2dec(d, m, s):\n",
    "  sign = d/abs(d)\n",
    "  dec = abs(d) + m/60 + s/3600\n",
    "  return sign*dec\n",
    "\n",
    "\n",
    "\n",
    "def import_bss():\n",
    "  res = []\n",
    "  data = np.loadtxt('table2.dat', usecols=range(1, 7))\n",
    "  for i, row in enumerate(data, 1):\n",
    "    res.append((i, hms2dec(row[0], row[1], row[2]), dms2dec(row[3], row[4], row[5])))\n",
    "  return res\n",
    "\n",
    "def import_super():\n",
    "  data = np.loadtxt('super.csv', delimiter=',', skiprows=1, usecols=[0, 1])\n",
    "  res = []\n",
    "  for i, row in enumerate(data, 1):\n",
    "    res.append((i, row[0], row[1]))\n",
    "  return res\n",
    "\n",
    "def angular_dist(ra1, dec1, ra2, dec2):\n",
    "  # Convert to radians\n",
    "  r1 = np.radians(ra1)\n",
    "  d1 = np.radians(dec1)\n",
    "  r2 = np.radians(ra2)\n",
    "  d2 = np.radians(dec2)\n",
    "\n",
    "  a = np.sin(np.abs(d1 - d2)/2)**2\n",
    "  b = np.cos(d1)*np.cos(d2)*np.sin(np.abs(r1 - r2)/2)**2\n",
    "\n",
    "  angle = 2*np.arcsin(np.sqrt(a + b))\n",
    "    \n",
    "  # Convert back to degrees\n",
    "  return np.degrees(angle)\n",
    "\n",
    "def find_closest(cat, ra, dec):\n",
    "  min_dist = np.inf\n",
    "  min_id = None\n",
    "  for id1, ra1, dec1 in cat:\n",
    "    dist = angular_dist(ra1, dec1, ra, dec)\n",
    "    if dist < min_dist:\n",
    "      min_id = id1\n",
    "      min_dist = dist\n",
    "    \n",
    "  return min_id, min_dist\n",
    "if __name__ == '__main__':\n",
    "  cat = import_bss()\n",
    "  \n",
    "  # First example from the question\n",
    "  print(find_closest(cat, 175.3, -32.5))\n",
    "\n",
    "  # Second example in the question\n",
    "  print(find_closest(cat, 32.2, 40.7))"
   ]
  },
  {
   "cell_type": "code",
   "execution_count": 8,
   "metadata": {},
   "outputs": [
    {
     "data": {
      "text/plain": [
       "15.310109866523895"
      ]
     },
     "execution_count": 8,
     "metadata": {},
     "output_type": "execute_result"
    }
   ],
   "source": []
  },
  {
   "cell_type": "code",
   "execution_count": 9,
   "metadata": {},
   "outputs": [
    {
     "data": {
      "text/plain": [
       "320"
      ]
     },
     "execution_count": 9,
     "metadata": {},
     "output_type": "execute_result"
    }
   ],
   "source": []
  },
  {
   "cell_type": "code",
   "execution_count": null,
   "metadata": {},
   "outputs": [],
   "source": []
  },
  {
   "cell_type": "code",
   "execution_count": null,
   "metadata": {},
   "outputs": [],
   "source": []
  }
 ],
 "metadata": {
  "kernelspec": {
   "display_name": "Python 3",
   "language": "python",
   "name": "python3"
  },
  "language_info": {
   "codemirror_mode": {
    "name": "ipython",
    "version": 3
   },
   "file_extension": ".py",
   "mimetype": "text/x-python",
   "name": "python",
   "nbconvert_exporter": "python",
   "pygments_lexer": "ipython3",
   "version": "3.8.5"
  }
 },
 "nbformat": 4,
 "nbformat_minor": 4
}
