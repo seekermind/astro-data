{
 "metadata": {
  "language_info": {
   "codemirror_mode": {
    "name": "ipython",
    "version": 3
   },
   "file_extension": ".py",
   "mimetype": "text/x-python",
   "name": "python",
   "nbconvert_exporter": "python",
   "pygments_lexer": "ipython3",
   "version": "3.8.5-final"
  },
  "orig_nbformat": 2,
  "kernelspec": {
   "name": "python38564bit43f464de89da48aabe77148ea1e806e9",
   "display_name": "Python 3.8.5 64-bit"
  }
 },
 "nbformat": 4,
 "nbformat_minor": 2,
 "cells": [
  {
   "cell_type": "code",
   "execution_count": 47,
   "metadata": {},
   "outputs": [],
   "source": [
    "import numpy as np"
   ]
  },
  {
   "cell_type": "code",
   "execution_count": 48,
   "metadata": {},
   "outputs": [],
   "source": [
    "def distance(p1, p2):\n",
    "    x1, y1 = p1\n",
    "    x2, y2 = p2\n",
    "    return((x1-x2)**2 + (y1-y2)**2)**(0.5)"
   ]
  },
  {
   "cell_type": "code",
   "execution_count": 49,
   "metadata": {},
   "outputs": [],
   "source": [
    "def kd_tree(points, depth=0):\n",
    "    n = len(points)\n",
    "    #for recursion purpose\n",
    "    if n<=0:\n",
    "        return None\n",
    "    #axis of split will change on every depth\n",
    "    axis = depth % k\n",
    "    #sorting the points by axis\n",
    "    sorted_points = sorted(points, key=lambda x: x[axis])\n",
    "    mid = int(n/2)\n",
    "    return {'point': sorted_points[mid],\n",
    "            'left': kd_tree(sorted_points[:mid], depth+1),\n",
    "            'right': kd_tree(sorted_points[mid+1:], depth+1)}\n",
    "    "
   ]
  },
  {
   "cell_type": "code",
   "execution_count": null,
   "metadata": {},
   "outputs": [],
   "source": []
  },
  {
   "cell_type": "code",
   "execution_count": 50,
   "metadata": {},
   "outputs": [],
   "source": [
    "def closer_distance(pivot, p1, p2):\n",
    "    # these two loop are here cz kd_closest_point function can give None point\n",
    "    if p1 is None:\n",
    "        return p2\n",
    "    if p2 is None:\n",
    "        return p1\n",
    "    \n",
    "    d1 = distance(pivot, p1)\n",
    "    d2 = distance(pivot, p2)\n",
    "    if d1< d2:\n",
    "        return p1\n",
    "    else:\n",
    "        return p2"
   ]
  },
  {
   "cell_type": "code",
   "execution_count": 51,
   "metadata": {},
   "outputs": [],
   "source": [
    "def kd_closet_point(kdtree, point, depth=0):\n",
    "    if kdtree is None:\n",
    "        return None\n",
    "    axis = depth % k\n",
    "\n",
    "    next_branch = None\n",
    "    opposite_branch = None\n",
    "\n",
    "    #if our point is on left side, we will find closet point on left side first\n",
    "    if point[axis] < kdtree['point'][axis]:\n",
    "        next_branch = kdtree['left']\n",
    "        opposite_branch = kdtree['right']\n",
    "    else:\n",
    "        next_branch = kdtree['right']\n",
    "        opposite_branch = kdtree['left']\n",
    "\n",
    "    # check for closest between point of this root and recursive roots.\n",
    "    best = closer_distance(point, kdtree['point'], kd_closet_point(next_branch, point, depth+1))\n",
    "\n",
    "    #we need check opposite side too if it is closer than best point\n",
    "    if distance(point, best) > abs(point[axis] - kdtree['point'][axis]):\n",
    "        best = closer_distance(point, kdtree['point'], kd_closet_point(opposite_branch, point, depth+1))\n",
    "\n",
    "    return best\n",
    "    "
   ]
  },
  {
   "cell_type": "code",
   "execution_count": 54,
   "metadata": {},
   "outputs": [
    {
     "output_type": "execute_result",
     "data": {
      "text/plain": "array([ 8.2277325 , 78.21399694])"
     },
     "metadata": {},
     "execution_count": 54
    }
   ],
   "source": [
    "points = np.random.uniform(0, 360, size=(100, 2))\n",
    "k =2\n",
    "kdtree = kd_tree(points)\n",
    "kd_closet_point(kdtree, [10, 19], depth=0)\n"
   ]
  },
  {
   "cell_type": "code",
   "execution_count": null,
   "metadata": {},
   "outputs": [],
   "source": []
  }
 ]
}